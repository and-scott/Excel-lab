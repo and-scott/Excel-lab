{
 "cells": [
  {
   "cell_type": "markdown",
   "metadata": {},
   "source": [
    "<img src=\"http://imgur.com/1ZcRyrc.png\" style=\"float: left; margin: 20px; height: 55px\" />\n",
    "\n",
    "# Excel Madness Lab!\n",
    "\n",
    "_Author:_ Tim Book"
   ]
  },
  {
   "cell_type": "markdown",
   "metadata": {},
   "source": [
    "## Our Mission\n",
    "We work for a large supermarket chain, with stores in 10 major cities that happen to coincide with General Assembly campuses. However, this company's idea of a \"database\" is just a bunch of Excel spreadsheets! In order to analyze our data, we're going to need to process the existing data into a form we can use. **Our end goal is to have one csv per city.**\n",
    "\n",
    "## Cleanup Duty!\n",
    "It is a hard truth that data scientists spend a large majority of their time cleaning data. Data never arrives on our desks in exactly the format in which we want it, and it's up to us to transform it to a workable format.\n",
    "\n",
    "Being good cleaning, moving, and reshaping data is in itself a valuable and employable job skill. If you follow these directions exactly, we will walk through constructing an automated process for processing data from this supermarket chain."
   ]
  },
  {
   "cell_type": "markdown",
   "metadata": {},
   "source": [
    "# Part I: Processing\n",
    "\n",
    "### Step 1: Imports and the `os` library\n",
    "We're going to import three libraries: numpy, pandas, and `os`."
   ]
  },
  {
   "cell_type": "code",
   "execution_count": 124,
   "metadata": {},
   "outputs": [],
   "source": [
    "# Import libraries here.\n",
    "import numpy as np\n",
    "import pandas as pd\n",
    "import os"
   ]
  },
  {
   "cell_type": "code",
   "execution_count": 125,
   "metadata": {},
   "outputs": [],
   "source": [
    "# Create a files variable that contains all of our data files.\n",
    "files = os.listdir('./data/')\n",
    "files = [file for file in files if file.endswith('.xlsx')]\n",
    "# Create an output folder.\n",
    "try:\n",
    "    os.mkdir('./data/output/')\n",
    "except:\n",
    "    pass\n",
    "\n",
    "def main():\n",
    "    process_all_data()\n",
    "if __name__ == '__main__':\n",
    "    main()"
   ]
  },
  {
   "cell_type": "markdown",
   "metadata": {},
   "source": [
    "The `os` library is extremely useful for performing system commands from within Python. Let's get two pieces of overhead out of the way now:\n",
    "\n",
    "1. Create an `output` folder using `os.mkdir()`\n",
    "2. Create a variable called `files` that is the list of files in the `data` folder using `os.listdir()`\n",
    "\n",
    "**WARNING:** The `os.mkdir()` function will give you an error if you try to make a folder that already exists!"
   ]
  },
  {
   "cell_type": "code",
   "execution_count": 104,
   "metadata": {
    "scrolled": true
   },
   "outputs": [],
   "source": [
    "# Create an output folder.\n",
    "#path = \"/Users/andrewprigmore/Desktop/GA/tutorial\"\n",
    "#outpath = \"exceloutput\"\n",
    "#newpath = os.path.join(path, outpath) \n",
    "#os.mkdir(newpath)\n",
    "# Create a files variable that contains all of our data files."
   ]
  },
  {
   "cell_type": "code",
   "execution_count": 106,
   "metadata": {},
   "outputs": [],
   "source": [
    "files = os.listdir('./data/')\n",
    "files = [file for file in files if file.endswith('.xlsx')]"
   ]
  },
  {
   "cell_type": "code",
   "execution_count": 107,
   "metadata": {},
   "outputs": [
    {
     "data": {
      "text/plain": [
       "['Jan 23.xlsx',\n",
       " 'Jan 19.xlsx',\n",
       " 'Jan 15.xlsx',\n",
       " 'Jan 7.xlsx',\n",
       " 'Jan 6.xlsx',\n",
       " 'Jan 14.xlsx',\n",
       " 'Jan 18.xlsx',\n",
       " 'Jan 22.xlsx',\n",
       " 'Jan 29.xlsx',\n",
       " 'Jan 13.xlsx',\n",
       " 'Jan 1.xlsx',\n",
       " 'Jan 25.xlsx',\n",
       " 'output',\n",
       " 'Jan 24.xlsx',\n",
       " 'Jan 12.xlsx',\n",
       " 'Jan 28.xlsx',\n",
       " 'Jan 3.xlsx',\n",
       " 'Jan 11.xlsx',\n",
       " 'Jan 27.xlsx',\n",
       " 'Jan 31.xlsx',\n",
       " 'Jan 30.xlsx',\n",
       " 'Jan 26.xlsx',\n",
       " 'Jan 10.xlsx',\n",
       " 'Jan 2.xlsx',\n",
       " 'Jan 9.xlsx',\n",
       " 'Jan 21.xlsx',\n",
       " 'Jan 5.xlsx',\n",
       " 'Jan 17.xlsx',\n",
       " 'd',\n",
       " 'Jan 16.xlsx',\n",
       " 'Jan 4.xlsx',\n",
       " 'Jan 20.xlsx',\n",
       " 'Jan 8.xlsx']"
      ]
     },
     "execution_count": 107,
     "metadata": {},
     "output_type": "execute_result"
    }
   ],
   "source": [
    "newestpath = \"/Users/andrewprigmore/Desktop/GA/tutorial/2.01-lab-excel-madness/data\"\n",
    "files = os.listdir(newestpath)\n",
    "files"
   ]
  },
  {
   "cell_type": "code",
   "execution_count": 105,
   "metadata": {},
   "outputs": [],
   "source": [
    "try:\n",
    "    os.mkdir('./data/output/')\n",
    "except:\n",
    "    pass"
   ]
  },
  {
   "cell_type": "markdown",
   "metadata": {},
   "source": [
    "### Step 2: Process one data frame\n",
    "It looks like we have data for the month of January. 31 files of 10 sheets each! Luckily they are all in the same format. So let's read just one in and process that. It might be helpful to open one up in your spreadsheet viewer of choice first (Excel, Numbers, Sheets, etc.)"
   ]
  },
  {
   "cell_type": "code",
   "execution_count": 108,
   "metadata": {},
   "outputs": [],
   "source": [
    "jan_01 = pd.read_excel(('./data/Jan 1.xlsx'),\n",
    "              sheet_name='New York')"
   ]
  },
  {
   "cell_type": "code",
   "execution_count": 109,
   "metadata": {},
   "outputs": [
    {
     "data": {
      "text/html": [
       "<div>\n",
       "<style scoped>\n",
       "    .dataframe tbody tr th:only-of-type {\n",
       "        vertical-align: middle;\n",
       "    }\n",
       "\n",
       "    .dataframe tbody tr th {\n",
       "        vertical-align: top;\n",
       "    }\n",
       "\n",
       "    .dataframe thead th {\n",
       "        text-align: right;\n",
       "    }\n",
       "</style>\n",
       "<table border=\"1\" class=\"dataframe\">\n",
       "  <thead>\n",
       "    <tr style=\"text-align: right;\">\n",
       "      <th></th>\n",
       "      <th>prodcode</th>\n",
       "      <th>price_eu</th>\n",
       "      <th>weight_kg</th>\n",
       "      <th>quantity</th>\n",
       "    </tr>\n",
       "  </thead>\n",
       "  <tbody>\n",
       "    <tr>\n",
       "      <th>0</th>\n",
       "      <td>4159</td>\n",
       "      <td>2.048141</td>\n",
       "      <td>8.812961</td>\n",
       "      <td>138</td>\n",
       "    </tr>\n",
       "    <tr>\n",
       "      <th>1</th>\n",
       "      <td>4062</td>\n",
       "      <td>2.728485</td>\n",
       "      <td>9.331372</td>\n",
       "      <td>184</td>\n",
       "    </tr>\n",
       "    <tr>\n",
       "      <th>2</th>\n",
       "      <td>4404</td>\n",
       "      <td>2.182498</td>\n",
       "      <td>8.937798</td>\n",
       "      <td>491</td>\n",
       "    </tr>\n",
       "    <tr>\n",
       "      <th>3</th>\n",
       "      <td>4412</td>\n",
       "      <td>2.342694</td>\n",
       "      <td>7.067682</td>\n",
       "      <td>218</td>\n",
       "    </tr>\n",
       "    <tr>\n",
       "      <th>4</th>\n",
       "      <td>4131</td>\n",
       "      <td>1.802839</td>\n",
       "      <td>9.551503</td>\n",
       "      <td>391</td>\n",
       "    </tr>\n",
       "  </tbody>\n",
       "</table>\n",
       "</div>"
      ],
      "text/plain": [
       "   prodcode  price_eu  weight_kg  quantity\n",
       "0      4159  2.048141   8.812961       138\n",
       "1      4062  2.728485   9.331372       184\n",
       "2      4404  2.182498   8.937798       491\n",
       "3      4412  2.342694   7.067682       218\n",
       "4      4131  1.802839   9.551503       391"
      ]
     },
     "execution_count": 109,
     "metadata": {},
     "output_type": "execute_result"
    }
   ],
   "source": [
    "jan_01.head()"
   ]
  },
  {
   "cell_type": "markdown",
   "metadata": {},
   "source": [
    "### Step 2a: Convert to 'Merican columns\n",
    "For whatever reason, our data are stored in euros and kilograms. Create `price_usd` and `weight_lb` columns. There are 2.2 pounds per kilogram, and 1.1 dollars per euro."
   ]
  },
  {
   "cell_type": "code",
   "execution_count": 110,
   "metadata": {},
   "outputs": [],
   "source": [
    "jan_01[\"price_usd\"] = jan_01[\"price_eu\"] * 1.1"
   ]
  },
  {
   "cell_type": "code",
   "execution_count": 111,
   "metadata": {},
   "outputs": [],
   "source": [
    "jan_01[\"weight_lb\"] = jan_01[\"weight_kg\"] * 2.2"
   ]
  },
  {
   "cell_type": "markdown",
   "metadata": {},
   "source": [
    "### Step 2b: Merge in product names\n",
    "You'll notice we also have a `plu-codes.csv` file containing actual product names matched up against their price lookup (PLU) codes. Let's merge these product names onto our Jan 1 data.\n",
    "* _Hint 1:_ What kind of merge is this? Right, left, inner, outer, etc.?\n",
    "* _Hint 2:_ Pay special attention to column names!"
   ]
  },
  {
   "cell_type": "code",
   "execution_count": 112,
   "metadata": {},
   "outputs": [],
   "source": [
    "plu = pd.read_csv(\"plu-codes.csv\")"
   ]
  },
  {
   "cell_type": "code",
   "execution_count": 113,
   "metadata": {
    "scrolled": false
   },
   "outputs": [
    {
     "data": {
      "text/html": [
       "<div>\n",
       "<style scoped>\n",
       "    .dataframe tbody tr th:only-of-type {\n",
       "        vertical-align: middle;\n",
       "    }\n",
       "\n",
       "    .dataframe tbody tr th {\n",
       "        vertical-align: top;\n",
       "    }\n",
       "\n",
       "    .dataframe thead th {\n",
       "        text-align: right;\n",
       "    }\n",
       "</style>\n",
       "<table border=\"1\" class=\"dataframe\">\n",
       "  <thead>\n",
       "    <tr style=\"text-align: right;\">\n",
       "      <th></th>\n",
       "      <th>product</th>\n",
       "      <th>plu_code</th>\n",
       "    </tr>\n",
       "  </thead>\n",
       "  <tbody>\n",
       "    <tr>\n",
       "      <th>0</th>\n",
       "      <td>Apple (Fuji)</td>\n",
       "      <td>4131</td>\n",
       "    </tr>\n",
       "    <tr>\n",
       "      <th>1</th>\n",
       "      <td>Apple (Gala)</td>\n",
       "      <td>4134</td>\n",
       "    </tr>\n",
       "    <tr>\n",
       "      <th>2</th>\n",
       "      <td>Apricot</td>\n",
       "      <td>3302</td>\n",
       "    </tr>\n",
       "    <tr>\n",
       "      <th>3</th>\n",
       "      <td>Avocado</td>\n",
       "      <td>4225</td>\n",
       "    </tr>\n",
       "    <tr>\n",
       "      <th>4</th>\n",
       "      <td>Banana</td>\n",
       "      <td>4011</td>\n",
       "    </tr>\n",
       "  </tbody>\n",
       "</table>\n",
       "</div>"
      ],
      "text/plain": [
       "        product  plu_code\n",
       "0  Apple (Fuji)      4131\n",
       "1  Apple (Gala)      4134\n",
       "2       Apricot      3302\n",
       "3       Avocado      4225\n",
       "4        Banana      4011"
      ]
     },
     "execution_count": 113,
     "metadata": {},
     "output_type": "execute_result"
    }
   ],
   "source": [
    "plu.head()"
   ]
  },
  {
   "cell_type": "code",
   "execution_count": 114,
   "metadata": {},
   "outputs": [],
   "source": [
    "jan_01 = pd.merge(left=jan_01,\n",
    "                 right = plu,\n",
    "                 left_on='prodcode',\n",
    "                right_on='plu_code',\n",
    "                 how='left')"
   ]
  },
  {
   "cell_type": "code",
   "execution_count": null,
   "metadata": {},
   "outputs": [],
   "source": []
  },
  {
   "cell_type": "code",
   "execution_count": null,
   "metadata": {},
   "outputs": [],
   "source": []
  },
  {
   "cell_type": "markdown",
   "metadata": {},
   "source": [
    "### Step 2c: Drop unnecessary columns\n",
    "We've created some extraneous columns. Drop the old price and weight columns, as well as any redundant columns."
   ]
  },
  {
   "cell_type": "code",
   "execution_count": 115,
   "metadata": {},
   "outputs": [
    {
     "data": {
      "text/html": [
       "<div>\n",
       "<style scoped>\n",
       "    .dataframe tbody tr th:only-of-type {\n",
       "        vertical-align: middle;\n",
       "    }\n",
       "\n",
       "    .dataframe tbody tr th {\n",
       "        vertical-align: top;\n",
       "    }\n",
       "\n",
       "    .dataframe thead th {\n",
       "        text-align: right;\n",
       "    }\n",
       "</style>\n",
       "<table border=\"1\" class=\"dataframe\">\n",
       "  <thead>\n",
       "    <tr style=\"text-align: right;\">\n",
       "      <th></th>\n",
       "      <th>prodcode</th>\n",
       "      <th>quantity</th>\n",
       "      <th>price_usd</th>\n",
       "      <th>weight_lb</th>\n",
       "      <th>product</th>\n",
       "    </tr>\n",
       "  </thead>\n",
       "  <tbody>\n",
       "    <tr>\n",
       "      <th>0</th>\n",
       "      <td>4159</td>\n",
       "      <td>138</td>\n",
       "      <td>2.252955</td>\n",
       "      <td>19.388515</td>\n",
       "      <td>Onion</td>\n",
       "    </tr>\n",
       "    <tr>\n",
       "      <th>1</th>\n",
       "      <td>4062</td>\n",
       "      <td>184</td>\n",
       "      <td>3.001334</td>\n",
       "      <td>20.529018</td>\n",
       "      <td>Cucumber</td>\n",
       "    </tr>\n",
       "    <tr>\n",
       "      <th>2</th>\n",
       "      <td>4404</td>\n",
       "      <td>491</td>\n",
       "      <td>2.400748</td>\n",
       "      <td>19.663156</td>\n",
       "      <td>Peach</td>\n",
       "    </tr>\n",
       "    <tr>\n",
       "      <th>3</th>\n",
       "      <td>4412</td>\n",
       "      <td>218</td>\n",
       "      <td>2.576964</td>\n",
       "      <td>15.548899</td>\n",
       "      <td>Pear</td>\n",
       "    </tr>\n",
       "    <tr>\n",
       "      <th>4</th>\n",
       "      <td>4131</td>\n",
       "      <td>391</td>\n",
       "      <td>1.983123</td>\n",
       "      <td>21.013306</td>\n",
       "      <td>Apple (Fuji)</td>\n",
       "    </tr>\n",
       "    <tr>\n",
       "      <th>...</th>\n",
       "      <td>...</td>\n",
       "      <td>...</td>\n",
       "      <td>...</td>\n",
       "      <td>...</td>\n",
       "      <td>...</td>\n",
       "    </tr>\n",
       "    <tr>\n",
       "      <th>124</th>\n",
       "      <td>4796</td>\n",
       "      <td>444</td>\n",
       "      <td>2.010444</td>\n",
       "      <td>17.430039</td>\n",
       "      <td>Tomato</td>\n",
       "    </tr>\n",
       "    <tr>\n",
       "      <th>125</th>\n",
       "      <td>4225</td>\n",
       "      <td>258</td>\n",
       "      <td>2.709552</td>\n",
       "      <td>12.846008</td>\n",
       "      <td>Avocado</td>\n",
       "    </tr>\n",
       "    <tr>\n",
       "      <th>126</th>\n",
       "      <td>4134</td>\n",
       "      <td>395</td>\n",
       "      <td>1.012167</td>\n",
       "      <td>20.297110</td>\n",
       "      <td>Apple (Gala)</td>\n",
       "    </tr>\n",
       "    <tr>\n",
       "      <th>127</th>\n",
       "      <td>3302</td>\n",
       "      <td>168</td>\n",
       "      <td>1.662098</td>\n",
       "      <td>5.868870</td>\n",
       "      <td>Apricot</td>\n",
       "    </tr>\n",
       "    <tr>\n",
       "      <th>128</th>\n",
       "      <td>4309</td>\n",
       "      <td>282</td>\n",
       "      <td>1.846835</td>\n",
       "      <td>7.787925</td>\n",
       "      <td>Lychee</td>\n",
       "    </tr>\n",
       "  </tbody>\n",
       "</table>\n",
       "<p>129 rows × 5 columns</p>\n",
       "</div>"
      ],
      "text/plain": [
       "     prodcode  quantity  price_usd  weight_lb       product\n",
       "0        4159       138   2.252955  19.388515         Onion\n",
       "1        4062       184   3.001334  20.529018      Cucumber\n",
       "2        4404       491   2.400748  19.663156         Peach\n",
       "3        4412       218   2.576964  15.548899          Pear\n",
       "4        4131       391   1.983123  21.013306  Apple (Fuji)\n",
       "..        ...       ...        ...        ...           ...\n",
       "124      4796       444   2.010444  17.430039        Tomato\n",
       "125      4225       258   2.709552  12.846008       Avocado\n",
       "126      4134       395   1.012167  20.297110  Apple (Gala)\n",
       "127      3302       168   1.662098   5.868870       Apricot\n",
       "128      4309       282   1.846835   7.787925        Lychee\n",
       "\n",
       "[129 rows x 5 columns]"
      ]
     },
     "execution_count": 115,
     "metadata": {},
     "output_type": "execute_result"
    }
   ],
   "source": [
    "jan_01.drop(columns=['weight_kg','price_eu','plu_code'])"
   ]
  },
  {
   "cell_type": "markdown",
   "metadata": {},
   "source": [
    "### Step 2d: Add the date\n",
    "Simply create a new `date` column that is the date this data was collected. For example, if this is from `Jan 1.xlsx`, this column should be full of `Jan 1`."
   ]
  },
  {
   "cell_type": "code",
   "execution_count": 116,
   "metadata": {},
   "outputs": [],
   "source": [
    "df['date'] = file.rstrip('.xlsx')"
   ]
  },
  {
   "cell_type": "markdown",
   "metadata": {},
   "source": [
    "### Step 3: Write a function that conducts all of Step 2\n",
    "This function should import a **filename and a city name** and return a fully processed DataFrame. That is, the function should:\n",
    "1. Read in the data from the given file and city.\n",
    "1. Create USD and pound columns.\n",
    "1. Merge in product names.\n",
    "1. Drop unnecessary columns.\n",
    "1. Add a date column"
   ]
  },
  {
   "cell_type": "code",
   "execution_count": null,
   "metadata": {},
   "outputs": [],
   "source": []
  },
  {
   "cell_type": "markdown",
   "metadata": {},
   "source": [
    "Test your function out on a new file and city!"
   ]
  },
  {
   "cell_type": "code",
   "execution_count": 117,
   "metadata": {},
   "outputs": [],
   "source": [
    "def process_data(file, city):\n",
    "    df = pd.read_excel(f'./data/{file}', sheet_name = city)\n",
    "    plu = pd.read_csv(\"plu-codes.csv\")\n",
    "    df['price_usd'] = df['price_eu'] * 1.1\n",
    "    df['weight_lb'] = df['weight_kg'] * 2.2\n",
    "    df = pd.merge(left=df,\n",
    "                 right = plu,\n",
    "                 left_on='prodcode',\n",
    "                 right_on='plu_code',\n",
    "                 how='left')\n",
    "    df.drop(columns=['weight_kg','price_eu','plu_code'], inplace=True)\n",
    "    df['date'] = file.rstrip('.xlsx')\n",
    "    return df"
   ]
  },
  {
   "cell_type": "markdown",
   "metadata": {},
   "source": [
    "### Step 4: Process all of January's data\n",
    "For each spreadsheet, process the data and store the resulting DataFrame in one big list. **You only need to do this for your city!**\n",
    "\n",
    "* _Hint 1:_ A listcomp would make this whole step one line of code!\n",
    "* _Hint 2:_ You've already made that `files` variable to help you here."
   ]
  },
  {
   "cell_type": "code",
   "execution_count": 118,
   "metadata": {},
   "outputs": [],
   "source": [
    "files = [file for file in files if file.endswith('.xlsx')]\n",
    "#files\n",
    "jan_data = [process_data(file, 'New York') for file in files]"
   ]
  },
  {
   "cell_type": "markdown",
   "metadata": {},
   "source": [
    "### Step 5: Concatenate all DataFrames from Step 4 into one large DataFrame\n",
    "* _Hint:_ Is there a function in `pandas` that can do something like this for us? This is also just one line of code!"
   ]
  },
  {
   "cell_type": "code",
   "execution_count": 119,
   "metadata": {},
   "outputs": [],
   "source": [
    "jan_data = pd.concat(jan_data)"
   ]
  },
  {
   "cell_type": "markdown",
   "metadata": {},
   "source": [
    "### Step 6: Do this for all cities, write data\n",
    "Here's the big one. For each city, process and the data as in steps 3-5, and then write the data to our `output` folder. Below is a dictionary of city name to desired output file name.\n",
    "\n",
    "Before writing your DataFrame, do the following:\n",
    "* Add a `city` column\n",
    "* Reorder the columns into the following order:\n",
    "\n",
    "\n",
    "| city | date | product | prodcode | quantity | weight_lb | price_usd |\n",
    "|---|---|---|---|---|---|---|\n",
    "\n",
    "* _Hint:_ You can reorder DataFrame columns simply by writing over your DataFrame with itself, but specifying the specific column order with `.loc`. For example:\n",
    "\n",
    "`print(df)`\n",
    "\n",
    "| b | c | a |\n",
    "|---|---|---|\n",
    "| 1 | 2 | 3 |\n",
    "\n",
    "`df = df.loc[:, [\"a\", \"b\", \"c\"]]`\n",
    "\n",
    "`print(df)`\n",
    "\n",
    "| a | b | c |\n",
    "|---|---|---|\n",
    "| 3 | 1 | 2 |\n"
   ]
  },
  {
   "cell_type": "code",
   "execution_count": 120,
   "metadata": {},
   "outputs": [],
   "source": [
    "city_dict = {\n",
    "    \"Atlanta\": \"atl.csv\",\n",
    "    \"Austin\": \"atx.csv\",\n",
    "    \"Boston\": \"bos.csv\",\n",
    "    \"Chicago\": \"chi.csv\",\n",
    "    \"Denver\": \"den.csv\",\n",
    "    \"Los Angeles\": \"lax.csv\",\n",
    "    \"New York\": \"nyc.csv\",\n",
    "    \"San Francisco\": \"sf.csv\",\n",
    "    \"Seattle\": \"sea.csv\",\n",
    "    \"Washington, DC\": \"dc.csv\"\n",
    "}"
   ]
  },
  {
   "cell_type": "code",
   "execution_count": 123,
   "metadata": {},
   "outputs": [],
   "source": [
    "# Loop through city_dict and carry out Step 6 here.\n",
    "# The keys of city_dict can serve as the sheet name.\n",
    "# The values of city_dict are what you should name the output .csv files.\n",
    "# If done correctly, this cell could take almost a minute to run!\n",
    "def process_all_data(files=files,city_dict=city_dict):\n",
    "    for city in city_dict:\n",
    "        jan_data = [process_data(file, city) for file in files]\n",
    "        jan_data = pd.concat(jan_data)\n",
    "        jan_data['city'] = city\n",
    "        jan_data.to_csv(f'./data/output/{city_dict[city]}')\n",
    "def main():\n",
    "    process_all_data()\n",
    "if __name__ == '__main__':\n",
    "    main()"
   ]
  },
  {
   "cell_type": "markdown",
   "metadata": {},
   "source": [
    "# Part II: Checking our answers \n",
    "In steps very similar to the ones conducted above...\n",
    "1. Loop through the files we just wrote to `output`, and read them in, collecting them all in one list\n",
    "1. Combine all of those DataFrames into one large DataFrame\n",
    "1. For each city, find the mean `quantity`, `weight_lb`, and `price_usd`.\n",
    "\n",
    "If you've done everything correct, your answer should look exactly like this:\n",
    "\n",
    "![](imgs/correct-output.png)"
   ]
  },
  {
   "cell_type": "code",
   "execution_count": 126,
   "metadata": {},
   "outputs": [
    {
     "data": {
      "text/html": [
       "<div>\n",
       "<style scoped>\n",
       "    .dataframe tbody tr th:only-of-type {\n",
       "        vertical-align: middle;\n",
       "    }\n",
       "\n",
       "    .dataframe tbody tr th {\n",
       "        vertical-align: top;\n",
       "    }\n",
       "\n",
       "    .dataframe thead th {\n",
       "        text-align: right;\n",
       "    }\n",
       "</style>\n",
       "<table border=\"1\" class=\"dataframe\">\n",
       "  <thead>\n",
       "    <tr style=\"text-align: right;\">\n",
       "      <th></th>\n",
       "      <th>quantity</th>\n",
       "      <th>weight_lb</th>\n",
       "      <th>price_usd</th>\n",
       "    </tr>\n",
       "    <tr>\n",
       "      <th>city</th>\n",
       "      <th></th>\n",
       "      <th></th>\n",
       "      <th></th>\n",
       "    </tr>\n",
       "  </thead>\n",
       "  <tbody>\n",
       "    <tr>\n",
       "      <th>Atlanta</th>\n",
       "      <td>302.485306</td>\n",
       "      <td>11.929027</td>\n",
       "      <td>1.937980</td>\n",
       "    </tr>\n",
       "    <tr>\n",
       "      <th>Austin</th>\n",
       "      <td>301.048298</td>\n",
       "      <td>12.092775</td>\n",
       "      <td>1.937456</td>\n",
       "    </tr>\n",
       "    <tr>\n",
       "      <th>Boston</th>\n",
       "      <td>298.806536</td>\n",
       "      <td>12.063057</td>\n",
       "      <td>1.900973</td>\n",
       "    </tr>\n",
       "    <tr>\n",
       "      <th>Chicago</th>\n",
       "      <td>301.686186</td>\n",
       "      <td>12.101555</td>\n",
       "      <td>1.930026</td>\n",
       "    </tr>\n",
       "    <tr>\n",
       "      <th>Denver</th>\n",
       "      <td>301.012745</td>\n",
       "      <td>12.129850</td>\n",
       "      <td>1.932088</td>\n",
       "    </tr>\n",
       "    <tr>\n",
       "      <th>Los Angeles</th>\n",
       "      <td>301.531276</td>\n",
       "      <td>12.167527</td>\n",
       "      <td>1.918331</td>\n",
       "    </tr>\n",
       "    <tr>\n",
       "      <th>New York</th>\n",
       "      <td>299.482863</td>\n",
       "      <td>12.090294</td>\n",
       "      <td>1.912662</td>\n",
       "    </tr>\n",
       "    <tr>\n",
       "      <th>San Francisco</th>\n",
       "      <td>298.979895</td>\n",
       "      <td>12.237399</td>\n",
       "      <td>1.925830</td>\n",
       "    </tr>\n",
       "    <tr>\n",
       "      <th>Seattle</th>\n",
       "      <td>300.333694</td>\n",
       "      <td>11.925486</td>\n",
       "      <td>1.903315</td>\n",
       "    </tr>\n",
       "    <tr>\n",
       "      <th>Washington, DC</th>\n",
       "      <td>300.576421</td>\n",
       "      <td>11.930747</td>\n",
       "      <td>1.943107</td>\n",
       "    </tr>\n",
       "  </tbody>\n",
       "</table>\n",
       "</div>"
      ],
      "text/plain": [
       "                  quantity  weight_lb  price_usd\n",
       "city                                            \n",
       "Atlanta         302.485306  11.929027   1.937980\n",
       "Austin          301.048298  12.092775   1.937456\n",
       "Boston          298.806536  12.063057   1.900973\n",
       "Chicago         301.686186  12.101555   1.930026\n",
       "Denver          301.012745  12.129850   1.932088\n",
       "Los Angeles     301.531276  12.167527   1.918331\n",
       "New York        299.482863  12.090294   1.912662\n",
       "San Francisco   298.979895  12.237399   1.925830\n",
       "Seattle         300.333694  11.925486   1.903315\n",
       "Washington, DC  300.576421  11.930747   1.943107"
      ]
     },
     "execution_count": 126,
     "metadata": {},
     "output_type": "execute_result"
    }
   ],
   "source": [
    "test_files = []\n",
    "for file in os.listdir('./data/output/'):\n",
    "    test_files.append(pd.read_csv(f'./data/output/{file}'))\n",
    "test_files = pd.concat(test_files)\n",
    "test_files.groupby('city')[['quantity','weight_lb','price_usd']].mean()"
   ]
  },
  {
   "cell_type": "markdown",
   "metadata": {},
   "source": [
    "# Part III (BONUS): Get this process production-ready!\n",
    "_This part of the lab is optional, but very highly recommended, as the skills developed in this part are extremely common in industry._\n",
    "\n",
    "For this step, we're going to take this whole process and put it into a production-ready Python script. **ABSOLUTELY NONE OF THIS STEP SHOULD TAKE PLACE IN A JUPYTER NOTEBOOK! PRODUCTIONALIZED ETL (_\"Extract, Transform, Load\"_) CODE DOES NOT TAKE PLACE IN A JUPYTER NOTEBOOK!**\n",
    "\n",
    "The instructions are simple: As conducted in this lab, read, transform, and export the data in our Excel files into .csv files. The code should be in a `.py` file and executable from the command line. Here are some hints and tips to guide you:\n",
    "\n",
    "### Hints, tips, and tricks:\n",
    "* A good place to start is with the code you've already written. In this notebook, you can click `File > Download as > Python (.py)` to export as a `.py` file. Most of this exercise then comes down to you cleaning this file. (There will be a lot to clean).\n",
    "* Remember `os.mkdir()` will throw an error if the folder you're trying to make already exists. Maybe you should check to see if it already exists. If it already exists, what should you do? (Remember that `.csv` can be overwritten with no problem.) The functions that can help you with this are all in the `os` library.\n",
    "* Remember to follow all of the Python best practices we've already learned:\n",
    "    - All import statements should go at the top of your script.\n",
    "    - Comment your code. Comments shouldn't explain _what_ code does, but _why_ the code does this.\n",
    "    - Keep your code DRY (don't repeat yourself) as opposed to WET (write everything twice). All constants should be variables that only need to be changed once. All code should be bottled into functions so you only need to fix it once.\n",
    "* Make sure not to hardcode \"Jan\" anywhere. The point is that this code can be run throughout the lifetime of this supermarket's project, which is likely months or years. Keep your code so that if you get February data, you only need to change one tiny piece of the script (probably a file path)."
   ]
  }
 ],
 "metadata": {
  "kernelspec": {
   "display_name": "Python 3",
   "language": "python",
   "name": "python3"
  },
  "language_info": {
   "codemirror_mode": {
    "name": "ipython",
    "version": 3
   },
   "file_extension": ".py",
   "mimetype": "text/x-python",
   "name": "python",
   "nbconvert_exporter": "python",
   "pygments_lexer": "ipython3",
   "version": "3.8.3"
  }
 },
 "nbformat": 4,
 "nbformat_minor": 2
}
